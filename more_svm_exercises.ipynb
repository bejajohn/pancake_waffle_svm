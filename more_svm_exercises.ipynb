{
 "cells": [
  {
   "cell_type": "markdown",
   "metadata": {},
   "source": [
    "# More SVM exercises\n",
    "\n",
    "Let's continue working with the pancake and waffle data to explore more SVM possibilities"
   ]
  },
  {
   "cell_type": "markdown",
   "metadata": {},
   "source": [
    "### Import Python libraries"
   ]
  },
  {
   "cell_type": "code",
   "execution_count": 1,
   "metadata": {},
   "outputs": [],
   "source": [
    "# Analysis\n",
    "import pandas as pd\n",
    "import numpy as np\n",
    "from sklearn import svm \n",
    "from sklearn.model_selection import cross_val_score\n",
    "\n",
    "# Visualization \n",
    "import matplotlib.pyplot as plt\n",
    "import seaborn as sns; sns.set(font_scale=2)"
   ]
  },
  {
   "cell_type": "markdown",
   "metadata": {},
   "source": [
    "### Import the data"
   ]
  },
  {
   "cell_type": "code",
   "execution_count": 3,
   "metadata": {},
   "outputs": [
    {
     "data": {
      "text/html": [
       "<div>\n",
       "<style scoped>\n",
       "    .dataframe tbody tr th:only-of-type {\n",
       "        vertical-align: middle;\n",
       "    }\n",
       "\n",
       "    .dataframe tbody tr th {\n",
       "        vertical-align: top;\n",
       "    }\n",
       "\n",
       "    .dataframe thead th {\n",
       "        text-align: right;\n",
       "    }\n",
       "</style>\n",
       "<table border=\"1\" class=\"dataframe\">\n",
       "  <thead>\n",
       "    <tr style=\"text-align: right;\">\n",
       "      <th></th>\n",
       "      <th>item</th>\n",
       "      <th>flour</th>\n",
       "      <th>baking powder</th>\n",
       "      <th>sugar</th>\n",
       "      <th>salt</th>\n",
       "      <th>milk</th>\n",
       "      <th>butter</th>\n",
       "      <th>egg</th>\n",
       "      <th>vanilla</th>\n",
       "    </tr>\n",
       "  </thead>\n",
       "  <tbody>\n",
       "    <tr>\n",
       "      <th>0</th>\n",
       "      <td>Pancake</td>\n",
       "      <td>45.133674</td>\n",
       "      <td>2.162809</td>\n",
       "      <td>1.853836</td>\n",
       "      <td>0.154486</td>\n",
       "      <td>37.611395</td>\n",
       "      <td>5.561522</td>\n",
       "      <td>7.522279</td>\n",
       "      <td>0.000000</td>\n",
       "    </tr>\n",
       "    <tr>\n",
       "      <th>1</th>\n",
       "      <td>Pancake</td>\n",
       "      <td>38.322979</td>\n",
       "      <td>1.574093</td>\n",
       "      <td>4.722272</td>\n",
       "      <td>0.393523</td>\n",
       "      <td>38.322979</td>\n",
       "      <td>4.722272</td>\n",
       "      <td>11.941881</td>\n",
       "      <td>0.000000</td>\n",
       "    </tr>\n",
       "    <tr>\n",
       "      <th>2</th>\n",
       "      <td>Pancake</td>\n",
       "      <td>43.163991</td>\n",
       "      <td>1.772935</td>\n",
       "      <td>5.395499</td>\n",
       "      <td>0.221617</td>\n",
       "      <td>37.768492</td>\n",
       "      <td>5.395499</td>\n",
       "      <td>5.395499</td>\n",
       "      <td>0.886468</td>\n",
       "    </tr>\n",
       "    <tr>\n",
       "      <th>3</th>\n",
       "      <td>Pancake</td>\n",
       "      <td>44.632464</td>\n",
       "      <td>0.916626</td>\n",
       "      <td>1.374937</td>\n",
       "      <td>0.114578</td>\n",
       "      <td>39.053406</td>\n",
       "      <td>2.749873</td>\n",
       "      <td>11.158116</td>\n",
       "      <td>0.000000</td>\n",
       "    </tr>\n",
       "    <tr>\n",
       "      <th>4</th>\n",
       "      <td>Pancake</td>\n",
       "      <td>41.706722</td>\n",
       "      <td>1.927258</td>\n",
       "      <td>3.910103</td>\n",
       "      <td>0.321210</td>\n",
       "      <td>39.101030</td>\n",
       "      <td>5.213471</td>\n",
       "      <td>7.820206</td>\n",
       "      <td>0.000000</td>\n",
       "    </tr>\n",
       "  </tbody>\n",
       "</table>\n",
       "</div>"
      ],
      "text/plain": [
       "      item      flour  baking powder     sugar      salt       milk    butter  \\\n",
       "0  Pancake  45.133674       2.162809  1.853836  0.154486  37.611395  5.561522   \n",
       "1  Pancake  38.322979       1.574093  4.722272  0.393523  38.322979  4.722272   \n",
       "2  Pancake  43.163991       1.772935  5.395499  0.221617  37.768492  5.395499   \n",
       "3  Pancake  44.632464       0.916626  1.374937  0.114578  39.053406  2.749873   \n",
       "4  Pancake  41.706722       1.927258  3.910103  0.321210  39.101030  5.213471   \n",
       "\n",
       "         egg   vanilla  \n",
       "0   7.522279  0.000000  \n",
       "1  11.941881  0.000000  \n",
       "2   5.395499  0.886468  \n",
       "3  11.158116  0.000000  \n",
       "4   7.820206  0.000000  "
      ]
     },
     "execution_count": 3,
     "metadata": {},
     "output_type": "execute_result"
    }
   ],
   "source": [
    "# Read in the pancake and waffle data\n",
    "more_pancakes_waffles = pd.read_csv('https://raw.githubusercontent.com/bejajohn/pancake_waffle_svm/master/pancake_and_waffle_data_more.csv')\n",
    "more_pancakes_waffles.head()"
   ]
  },
  {
   "cell_type": "markdown",
   "metadata": {},
   "source": [
    "### Hands-on exercise 1: Higher dimensions\n",
    "\n",
    "Let's say we wanted to use 3 ingredients as features in this analysis instead of two. What if we wanted to use all ingredients? Try redoing the analysis with more ingredients. \n",
    "\n",
    "How do your results turn out? "
   ]
  },
  {
   "cell_type": "code",
   "execution_count": 5,
   "metadata": {},
   "outputs": [],
   "source": [
    "## Fit the model\n",
    "\n",
    "# Specify input and output for the model\n",
    "\n",
    "# Fit the SVM model"
   ]
  },
  {
   "cell_type": "code",
   "execution_count": null,
   "metadata": {},
   "outputs": [],
   "source": [
    "## Visualize the results"
   ]
  },
  {
   "cell_type": "markdown",
   "metadata": {},
   "source": [
    "### Hands - on exercise 2: Other kernels\n",
    "\n",
    "In the previous exercises, we used a linear kernel. SVMs are actually very flexible classifiers that can cope with data even when they are not linearly separable. We will discuss the 'kernel trick' in the next class. In the meantime, try using the 'rbf' kernel and play around with the gamma parameter. What do you think this parameter does?"
   ]
  },
  {
   "cell_type": "code",
   "execution_count": 6,
   "metadata": {},
   "outputs": [],
   "source": [
    "## Helper functions for plotting\n",
    "def make_meshgrid(x, y, h=.1):\n",
    "    x_min, x_max = x.min() - 1, x.max() + 1\n",
    "    y_min, y_max = y.min() - 1, y.max() + 1\n",
    "    xx, yy = np.meshgrid(np.arange(x_min, x_max, h), np.arange(y_min, y_max, h))\n",
    "    return xx, yy\n",
    "\n",
    "def plot_contours(ax, clf, xx, yy, **params):\n",
    "    Z = clf.predict(np.c_[xx.ravel(), yy.ravel()])\n",
    "    Z = Z.reshape(xx.shape)\n",
    "    out = ax.contourf(xx, yy, Z, **params)\n",
    "    return out"
   ]
  },
  {
   "cell_type": "code",
   "execution_count": null,
   "metadata": {},
   "outputs": [],
   "source": [
    "## Fit model \n",
    "# Specify input and output for the model\n",
    "\n",
    "# Fit the SVM model\n"
   ]
  },
  {
   "cell_type": "code",
   "execution_count": null,
   "metadata": {},
   "outputs": [],
   "source": [
    "## Visualize results\n",
    "\n",
    "fig, ax = plt.subplots()\n",
    "# title for the plots\n",
    "title = ('Decision surface of SVC ')\n",
    "# Helper: Set-up grid for plotting.\n",
    "X0, X1 = X[:, 0], X[:, 1]\n",
    "xx, yy = make_meshgrid(X0, X1)\n",
    "\n",
    "# Helper: code for plotting\n",
    "plot_contours(ax, clf, xx, yy, cmap=plt.cm.coolwarm, alpha=0.8)\n",
    "ax.scatter(X0, X1, c=y, cmap=plt.cm.coolwarm, s=20, edgecolors='k')\n",
    "ax.set_ylabel('milk')\n",
    "ax.set_xlabel('butter')\n",
    "ax.set_xticks((0,5,10,15))\n",
    "ax.set_yticks((26,30,34,38))\n",
    "ax.set_title(title)\n",
    "plt.show()"
   ]
  },
  {
   "cell_type": "markdown",
   "metadata": {},
   "source": [
    "### Hands-on exercise 3: Cross validation \n",
    "\n",
    "Perform cross validation to select reasonable choices for C and gamma."
   ]
  },
  {
   "cell_type": "code",
   "execution_count": null,
   "metadata": {},
   "outputs": [],
   "source": [
    "# Get cross validation score on a single C, gamma combo\n"
   ]
  },
  {
   "cell_type": "code",
   "execution_count": null,
   "metadata": {},
   "outputs": [],
   "source": [
    "# Get cross validation score on multiple C, gamma combos\n"
   ]
  },
  {
   "cell_type": "code",
   "execution_count": null,
   "metadata": {},
   "outputs": [],
   "source": [
    "# Where is the accuracy the highest?\n"
   ]
  },
  {
   "cell_type": "code",
   "execution_count": null,
   "metadata": {},
   "outputs": [],
   "source": [
    "# Results\n"
   ]
  }
 ],
 "metadata": {
  "kernelspec": {
   "display_name": "Python 3",
   "language": "python",
   "name": "python3"
  },
  "language_info": {
   "codemirror_mode": {
    "name": "ipython",
    "version": 3
   },
   "file_extension": ".py",
   "mimetype": "text/x-python",
   "name": "python",
   "nbconvert_exporter": "python",
   "pygments_lexer": "ipython3",
   "version": "3.8.5"
  }
 },
 "nbformat": 4,
 "nbformat_minor": 4
}
