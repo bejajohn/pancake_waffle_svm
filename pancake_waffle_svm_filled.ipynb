{
 "cells": [
  {
   "cell_type": "markdown",
   "metadata": {},
   "source": [
    "# Pancakes and Waffles with Support Vector Machines"
   ]
  },
  {
   "cell_type": "markdown",
   "metadata": {},
   "source": [
    "Over the holidays, my family and I had a discussion about whether pancakes or waffles are better. After several minutes of heated debate, my sister tried to settle the discussion by saying that pancakes and waffles are basically the same thing, and the only thing that's different is the method of cooking. My dad firmly disagreed. Was my sister right, or can a machine learning algorithm classify pancakes and waffles based on their batter recipes? Let's find out! "
   ]
  },
  {
   "cell_type": "markdown",
   "metadata": {},
   "source": [
    "### Step 0: Data \n",
    "\n",
    "\n",
    "#### Step 0.1: Gather the data \n",
    "I went to Google to gather up some basic recipes for pancakes and waffles. It turns out that pancakes and waffles generally have the same ingredients: \n",
    "\n",
    "* flour\n",
    "* butter\n",
    "* milk\n",
    "* sugar\n",
    "* eggs\n",
    "* vanilla extract\n",
    "* baking powder\n",
    "* salt\n",
    "\n",
    "#### Step 0.2: Clean the data\n",
    "\n",
    "* A few recipies called for oil instead of butter. Since they serve the same purupose, I recorded any call for oil in a recipe as a butter in my entries. \n",
    "* The units varied by recipe. For example, sometimes butter measurements were given in tablespoons sometimes in cups. I converted every entry of every ingredient to cups. **NOTE**: I made an assumption that 1 egg is 1/4 cup. \n",
    "* All of the recipes yield a different amount of batter. To standardize the entries, I divided each entry by the total volume (in cups). Which resulted of the percent volume of each ingredient. "
   ]
  },
  {
   "cell_type": "markdown",
   "metadata": {},
   "source": [
    "### Step 1: Import Python libraries"
   ]
  },
  {
   "cell_type": "code",
   "execution_count": null,
   "metadata": {},
   "outputs": [],
   "source": [
    "# Analysis\n",
    "import pandas as pd\n",
    "import numpy as np\n",
    "from sklearn import svm \n",
    "from sklearn.model_selection import cross_val_score\n",
    "\n",
    "# Visualization \n",
    "import matplotlib.pyplot as plt\n",
    "import seaborn as sns; sns.set(font_scale=2)"
   ]
  },
  {
   "cell_type": "markdown",
   "metadata": {},
   "source": [
    "### Step 2: Import the data"
   ]
  },
  {
   "cell_type": "code",
   "execution_count": null,
   "metadata": {},
   "outputs": [],
   "source": [
    "# Read in the pancake and waffle data\n",
    "pancakes_waffles = pd.read_csv('https://raw.githubusercontent.com/bejajohn/pancake_waffle_svm/master/pancake_and_waffle_data.csv')\n",
    "pancakes_waffles.head()"
   ]
  },
  {
   "cell_type": "markdown",
   "metadata": {},
   "source": [
    "### Step 3: Visualize the data"
   ]
  },
  {
   "cell_type": "code",
   "execution_count": null,
   "metadata": {},
   "outputs": [],
   "source": [
    "# Seaborn plot\n",
    "sns.lmplot(x='butter',y='milk', data = pancakes_waffles, hue='item',\n",
    "               palette='Set1',fit_reg=False,scatter_kws={\"s\":80});"
   ]
  },
  {
   "cell_type": "markdown",
   "metadata": {},
   "source": [
    "### Step 4: Fit the SVM model\n",
    "We will be using support vector machines for this application. You can read the documentation [here](https://scikit-learn.org/stable/modules/generated/sklearn.svm.SVC.html)."
   ]
  },
  {
   "cell_type": "code",
   "execution_count": null,
   "metadata": {},
   "outputs": [],
   "source": [
    "# Specify input and output for the model\n",
    "X = pancakes_waffles[['butter','milk']].to_numpy()\n",
    "y = np.where(pancakes_waffles['item']=='Waffle', -1, 1)\n",
    "\n",
    "# Fit the SVM model\n",
    "model = svm.SVC(kernel='linear')\n",
    "model.fit(X, y)"
   ]
  },
  {
   "cell_type": "markdown",
   "metadata": {},
   "source": [
    "### Step 5: Visualize the results"
   ]
  },
  {
   "cell_type": "code",
   "execution_count": null,
   "metadata": {},
   "outputs": [],
   "source": [
    "# Get the separating hyperplane\n",
    "w = model.coef_[0]\n",
    "b = model.intercept_[0]\n",
    "m = - w[0] / w[1]\n",
    "c = - b / w[1]\n",
    "xx = np.linspace(0, 16)\n",
    "yy = m * xx + c\n",
    "\n",
    "# Plot the hyperplane\n",
    "sns.lmplot(x='butter', y='milk', data=pancakes_waffles, hue='item', \n",
    "           palette='Set1', fit_reg=False, scatter_kws={\"s\": 70})\n",
    "plt.plot(xx, yy, linewidth=2, color='black');\n",
    "plt.ylim((29,41));\n",
    "plt.xlim((-1,16));"
   ]
  },
  {
   "cell_type": "code",
   "execution_count": null,
   "metadata": {},
   "outputs": [],
   "source": [
    "# Plot the parallels to the separating hyperplane that pass through the support vectors\n",
    "sv1 = model.support_vectors_[0]\n",
    "sv2 = model.support_vectors_[-1]\n",
    "yy_down = m * xx - m * sv1[0] + sv1[1]\n",
    "yy_up = m * xx - m * sv2[0] + sv2[1] \n",
    "\n",
    "# Look at the margins and support vectors\n",
    "sns.lmplot(x='butter', y='milk', data=pancakes_waffles, hue='item', \n",
    "           palette='Set1', fit_reg=False, scatter_kws={\"s\": 80})\n",
    "plt.plot(xx, yy, linewidth=2, color='black');\n",
    "plt.plot(xx, yy_down, 'k--');\n",
    "plt.plot(xx, yy_up, 'k--');\n",
    "plt.scatter(model.support_vectors_[:, 0], model.support_vectors_[:, 1],\n",
    "            s=400, facecolors='none',edgecolors='black');\n",
    "plt.ylim((29,41));\n",
    "plt.xlim((-1,16));"
   ]
  },
  {
   "cell_type": "markdown",
   "metadata": {},
   "source": [
    "### Step 5.2: Quantify the results"
   ]
  },
  {
   "cell_type": "code",
   "execution_count": null,
   "metadata": {},
   "outputs": [],
   "source": [
    "# Compute the mean accuracy\n",
    "print(model.score(X,y))"
   ]
  },
  {
   "cell_type": "markdown",
   "metadata": {},
   "source": [
    "### Step 6: Predict a new case\n",
    "[This recipe](https://www.food.com/recipe/basic-batter-waffles-110683) is 11.4% butter and 34.0% milk. Use the model we fit to determine whether this is a pancake or a waffle. "
   ]
  },
  {
   "cell_type": "code",
   "execution_count": null,
   "metadata": {},
   "outputs": [],
   "source": [
    "# Plot the point to visually see where the point lies\n",
    "sns.lmplot(x='butter', y='milk', data=pancakes_waffles,hue='item', \n",
    "           palette='Set1', fit_reg=False, scatter_kws={\"s\": 70});\n",
    "plt.plot(xx, yy, linewidth=2, color='black');\n",
    "plt.plot(11.4, 34.0, 'k*', markersize='18');\n",
    "plt.ylim((29,41));\n",
    "plt.xlim((-1,16));"
   ]
  },
  {
   "cell_type": "code",
   "execution_count": null,
   "metadata": {},
   "outputs": [],
   "source": [
    "# Predict if 11.4% butter, 34.0% milk\n",
    "model.predict([[11.4,34.0]])"
   ]
  },
  {
   "cell_type": "code",
   "execution_count": null,
   "metadata": {},
   "outputs": [],
   "source": [
    "# Create a function to predict when a recipe is a pancake or a waffle\n",
    "def pancake_or_waffle(butter, milk):\n",
    "    if(model.predict([[butter, milk]]))==-1:\n",
    "        print('Waffle')\n",
    "    else:\n",
    "        print('Pancake')"
   ]
  },
  {
   "cell_type": "code",
   "execution_count": null,
   "metadata": {},
   "outputs": [],
   "source": [
    "# Check the new point\n",
    "pancake_or_waffle(11.4, 34.0)"
   ]
  },
  {
   "cell_type": "markdown",
   "metadata": {},
   "source": [
    "**Another example**: [This recipe](https://lilluna.com/easy-pancake-recipe/) is 5.5% butter and 37.3% milk. Use the model we fit to determine whether this is a pancake or a waffle."
   ]
  },
  {
   "cell_type": "code",
   "execution_count": null,
   "metadata": {},
   "outputs": [],
   "source": [
    "# Plot the point to visually see where the point lies\n",
    "sns.lmplot(x='butter', y='milk', data=pancakes_waffles, hue='item', palette='Set1', fit_reg=False, scatter_kws={\"s\": 70});\n",
    "plt.plot(xx, yy, linewidth=2, color='black');\n",
    "plt.plot(5.5, 37.3, 'k*', markersize='18');\n",
    "plt.ylim((29,41));\n",
    "plt.xlim((-1,16));"
   ]
  },
  {
   "cell_type": "code",
   "execution_count": null,
   "metadata": {},
   "outputs": [],
   "source": [
    "# Predict if 5.5% butter, 37.3% milk\n",
    "pancake_or_waffle(5.5, 37.3)"
   ]
  },
  {
   "cell_type": "markdown",
   "metadata": {},
   "source": [
    "# Hands-on exercise: C parameter\n",
    "\n",
    "I gathered up a few more recipes and added them into a new expanded dataset."
   ]
  },
  {
   "cell_type": "code",
   "execution_count": null,
   "metadata": {},
   "outputs": [],
   "source": [
    "# Read in the expanded pancake and waffle dataset\n",
    "more_pancakes_waffles = pd.read_csv('https://raw.githubusercontent.com/bejajohn/pancake_waffle_svm/master/pancake_and_waffle_data_more.csv')\n",
    "more_pancakes_waffles"
   ]
  },
  {
   "cell_type": "markdown",
   "metadata": {},
   "source": [
    "**Step 1:** Plot this new data as we did with the original data. What do you notice about it? "
   ]
  },
  {
   "cell_type": "code",
   "execution_count": null,
   "metadata": {},
   "outputs": [],
   "source": [
    "## Plot the data \n",
    "\n",
    "# Seaborn plot\n",
    "sns.lmplot(x='butter',y='milk', data = more_pancakes_waffles, hue='item',\n",
    "               palette='Set1',fit_reg=False,scatter_kws={\"s\":70});"
   ]
  },
  {
   "cell_type": "markdown",
   "metadata": {},
   "source": [
    "**Step 2:** svm.SVC takes a couple of inputs. One of the parameters, C, is set to a default of 1. Try playing around with the C parameter. Visualze and quantify the results. What do you think this parameter does? (HINT: What if C=0.01? C = 10?)"
   ]
  },
  {
   "cell_type": "code",
   "execution_count": null,
   "metadata": {},
   "outputs": [],
   "source": [
    "## Fit the svm model\n",
    "\n",
    "# Specify input and output for the model\n",
    "X = more_pancakes_waffles[['butter','milk']].to_numpy()\n",
    "y = np.where(more_pancakes_waffles['item']=='Waffle', -1, 1)\n",
    "\n",
    "# Fit the SVM model\n",
    "model = svm.SVC(kernel='linear',C=10)\n",
    "model.fit(X, y)"
   ]
  },
  {
   "cell_type": "code",
   "execution_count": null,
   "metadata": {},
   "outputs": [],
   "source": [
    "## Visualize the results \n",
    "\n",
    "# Get the separating hyperplane\n",
    "w = model.coef_[0]\n",
    "b = model.intercept_[0]\n",
    "m = - w[0] / w[1]\n",
    "c = - b / w[1]\n",
    "xx = np.linspace(0, 17)\n",
    "yy = m * xx + c\n",
    "\n",
    "# Plot the hyperplane\n",
    "sns.lmplot(x='butter', y='milk', data=more_pancakes_waffles, hue='item', \n",
    "           palette='Set1', fit_reg=False, scatter_kws={\"s\": 70})\n",
    "plt.plot(xx, yy, linewidth=2, color='black');\n",
    "plt.ylim((24,41));\n",
    "plt.xlim((-1,17));"
   ]
  },
  {
   "cell_type": "code",
   "execution_count": null,
   "metadata": {},
   "outputs": [],
   "source": [
    "## Quantify the results\n",
    "\n",
    "print(model.score(X,y))"
   ]
  },
  {
   "cell_type": "markdown",
   "metadata": {},
   "source": [
    "# Hands on exercise: higher dimensions\n",
    "\n",
    "Let's say we wanted to use 3 ingredients as features in this analysis instead of two. What if we wanted to use all ingredients? Try redoing the analysis with more ingredients. \n",
    "\n",
    "How do your results turn out? "
   ]
  },
  {
   "cell_type": "code",
   "execution_count": null,
   "metadata": {},
   "outputs": [],
   "source": [
    "## Fit the model\n",
    "\n",
    "# Specify input and output for the model\n",
    "X = more_pancakes_waffles[['butter','milk','flour']].to_numpy()\n",
    "y = np.where(more_pancakes_waffles['item']=='Waffle', -1, 1)\n",
    "\n",
    "# Fit the SVM model\n",
    "model = svm.SVC(kernel = 'linear')\n",
    "model.fit(X,y)\n",
    "print(model.score(X,y))"
   ]
  },
  {
   "cell_type": "code",
   "execution_count": null,
   "metadata": {},
   "outputs": [],
   "source": [
    "# Visualize the results\n",
    "plt.figure(figsize = (10, 8))\n",
    "plot_axes = plt.axes(projection = '3d')\n",
    "plot_axes.scatter3D(X[:,0],X[:,1],X[:,2],c=y,cmap=\"jet\",s=70)\n",
    "plot_axes.view_init(30, 50)\n",
    "plt.show()"
   ]
  },
  {
   "cell_type": "markdown",
   "metadata": {},
   "source": [
    "# Hands-on exercise: kernel trick and gamma parameter\n",
    "\n",
    "In the previous exercises, we used a linear kernel. SVMs are actually very flexible classifiers that can cope with data even when they are not linearly separable. We will discuss the 'kernel trick' in the next class. In the meantime, try using the 'rbf' kernel and play around with the gamma parameter. What do you think this parameter does?"
   ]
  },
  {
   "cell_type": "code",
   "execution_count": null,
   "metadata": {},
   "outputs": [],
   "source": [
    "def make_meshgrid(x, y, h=.1):\n",
    "    x_min, x_max = x.min() - 1, x.max() + 1\n",
    "    y_min, y_max = y.min() - 1, y.max() + 1\n",
    "    xx, yy = np.meshgrid(np.arange(x_min, x_max, h), np.arange(y_min, y_max, h))\n",
    "    return xx, yy\n",
    "\n",
    "def plot_contours(ax, clf, xx, yy, **params):\n",
    "    Z = clf.predict(np.c_[xx.ravel(), yy.ravel()])\n",
    "    Z = Z.reshape(xx.shape)\n",
    "    out = ax.contourf(xx, yy, Z, **params)\n",
    "    return out"
   ]
  },
  {
   "cell_type": "code",
   "execution_count": null,
   "metadata": {},
   "outputs": [],
   "source": [
    "# Specify input and output for the model\n",
    "X = more_pancakes_waffles[['butter','milk']].to_numpy()\n",
    "y = np.where(more_pancakes_waffles['item']=='Waffle', -1, 1)\n",
    "\n",
    "model = svm.SVC(kernel='rbf',C=1,gamma=0.1)\n",
    "clf = model.fit(X, y)\n",
    "\n",
    "fig, ax = plt.subplots()\n",
    "# title for the plots\n",
    "title = ('Decision surface of SVC ')\n",
    "# Set-up grid for plotting.\n",
    "X0, X1 = X[:, 0], X[:, 1]\n",
    "xx, yy = make_meshgrid(X0, X1)\n",
    "\n",
    "plot_contours(ax, clf, xx, yy, cmap=plt.cm.coolwarm, alpha=0.8)\n",
    "ax.scatter(X0, X1, c=y, cmap=plt.cm.coolwarm, s=20, edgecolors='k')\n",
    "ax.set_ylabel('milk')\n",
    "ax.set_xlabel('butter')\n",
    "ax.set_xticks((0,5,10,15))\n",
    "ax.set_yticks((26,30,34,38))\n",
    "ax.set_title(title)\n",
    "plt.show()"
   ]
  },
  {
   "cell_type": "markdown",
   "metadata": {},
   "source": [
    "# Hands-on exercise: Cross validation \n",
    "\n",
    "Perform cross validation to select reasonable choices for C and gamma."
   ]
  },
  {
   "cell_type": "code",
   "execution_count": null,
   "metadata": {},
   "outputs": [],
   "source": [
    "# Get cross validation score on a single C, gamma combo\n",
    "model = svm.SVC(kernel='rbf', C=0.5,gamma=0.01)\n",
    "scores = cross_val_score(model, X, y, cv=5)\n",
    "print(scores)\n",
    "print(scores.mean())"
   ]
  },
  {
   "cell_type": "code",
   "execution_count": null,
   "metadata": {},
   "outputs": [],
   "source": [
    "# Get cross validation score on multiple C, gamma combos\n",
    "C_vals = np.linspace(0.01,2,5)\n",
    "gamma_vals = np.linspace(0.01,2,5)\n",
    "\n",
    "all_mean_scores = np.zeros((len(C_vals),len(gamma_vals)))\n",
    "for i in range(len(C_vals)):\n",
    "    for j in range(len(gamma_vals)):\n",
    "        model = svm.SVC(kernel='rbf', C=C_vals[i], gamma=gamma_vals[j])\n",
    "        scores = cross_val_score(model, X, y, cv=5)\n",
    "        all_mean_scores[i,j] = scores.mean()\n",
    "print(all_mean_scores)"
   ]
  },
  {
   "cell_type": "code",
   "execution_count": null,
   "metadata": {},
   "outputs": [],
   "source": [
    "# Where is the accuracy the highest?\n",
    "optimal_parameters = np.where(all_mean_scores == np.max(all_mean_scores))"
   ]
  },
  {
   "cell_type": "code",
   "execution_count": null,
   "metadata": {},
   "outputs": [],
   "source": [
    "# Results\n",
    "print('The C parameter with the highest cross validation score is ',\n",
    "      C_vals[optimal_parameters[0][0]])\n",
    "print('The best gamma parameter with the highest cross validation score is ', \n",
    "      gamma_vals[optimal_parameters[1][0]])"
   ]
  },
  {
   "cell_type": "code",
   "execution_count": null,
   "metadata": {},
   "outputs": [],
   "source": []
  }
 ],
 "metadata": {
  "kernelspec": {
   "display_name": "Python 3",
   "language": "python",
   "name": "python3"
  },
  "language_info": {
   "codemirror_mode": {
    "name": "ipython",
    "version": 3
   },
   "file_extension": ".py",
   "mimetype": "text/x-python",
   "name": "python",
   "nbconvert_exporter": "python",
   "pygments_lexer": "ipython3",
   "version": "3.8.5"
  }
 },
 "nbformat": 4,
 "nbformat_minor": 4
}
